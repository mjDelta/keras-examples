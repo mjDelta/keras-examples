{
 "cells": [
  {
   "cell_type": "markdown",
   "metadata": {},
   "source": [
    "# Freeze pretrained model"
   ]
  },
  {
   "cell_type": "code",
   "execution_count": 1,
   "metadata": {
    "collapsed": false
   },
   "outputs": [
    {
     "name": "stderr",
     "output_type": "stream",
     "text": [
      "Using TensorFlow backend.\n"
     ]
    }
   ],
   "source": [
    "from keras.applications import VGG16\n",
    "conv_base=VGG16(weights=\"imagenet\",\n",
    "               include_top=False,\n",
    "               input_shape=(150,150,3))"
   ]
  },
  {
   "cell_type": "code",
   "execution_count": 2,
   "metadata": {
    "collapsed": false
   },
   "outputs": [
    {
     "name": "stdout",
     "output_type": "stream",
     "text": [
      "_________________________________________________________________\n",
      "Layer (type)                 Output Shape              Param #   \n",
      "=================================================================\n",
      "vgg16 (Model)                (None, 4, 4, 512)         14714688  \n",
      "_________________________________________________________________\n",
      "flatten_1 (Flatten)          (None, 8192)              0         \n",
      "_________________________________________________________________\n",
      "dense_1 (Dense)              (None, 256)               2097408   \n",
      "_________________________________________________________________\n",
      "dense_2 (Dense)              (None, 1)                 257       \n",
      "=================================================================\n",
      "Total params: 16,812,353\n",
      "Trainable params: 16,812,353\n",
      "Non-trainable params: 0\n",
      "_________________________________________________________________\n"
     ]
    }
   ],
   "source": [
    "from keras import layers\n",
    "from keras import models\n",
    "\n",
    "model=models.Sequential()\n",
    "model.add(conv_base)\n",
    "model.add(layers.Flatten())\n",
    "model.add(layers.Dense(256,activation=\"relu\"))\n",
    "model.add(layers.Dense(1,activation=\"sigmoid\"))\n",
    "\n",
    "model.summary()"
   ]
  },
  {
   "cell_type": "markdown",
   "metadata": {},
   "source": [
    "# Freeze conv_base's params"
   ]
  },
  {
   "cell_type": "code",
   "execution_count": 3,
   "metadata": {
    "collapsed": false
   },
   "outputs": [
    {
     "name": "stdout",
     "output_type": "stream",
     "text": [
      "Before freezing, trainable params num: 30\n",
      "After freezing, trainable params num: 4\n"
     ]
    }
   ],
   "source": [
    "print(\"Before freezing, trainable params num: \"+str(len(model.trainable_weights)))\n",
    "conv_base.trainable=False\n",
    "print(\"After freezing, trainable params num: \"+str(len(model.trainable_weights)))"
   ]
  },
  {
   "cell_type": "code",
   "execution_count": 4,
   "metadata": {
    "collapsed": false
   },
   "outputs": [
    {
     "name": "stdout",
     "output_type": "stream",
     "text": [
      "Found 2000 images belonging to 2 classes.\n",
      "Found 1000 images belonging to 2 classes.\n"
     ]
    }
   ],
   "source": [
    "from keras.preprocessing.image import ImageDataGenerator\n",
    "import os\n",
    "train_gen=ImageDataGenerator(rescale=1/255.,\n",
    "                            rotation_range=40,\n",
    "                            width_shift_range=0.2,\n",
    "                            height_shift_range=0.2,\n",
    "                            shear_range=0.2,\n",
    "                            zoom_range=0.2,\n",
    "                            horizontal_flip=True,\n",
    "                            fill_mode=\"nearest\")\n",
    "test_gen=ImageDataGenerator(rescale=1/255.)\n",
    "\n",
    "def getGen(gen,dir_):\n",
    "    return gen.flow_from_directory(dir_,\n",
    "                                  target_size=(150,150),\n",
    "                                  batch_size=20,\n",
    "                                  class_mode=\"binary\")\n",
    "train_dir=os.path.join(\"small_train\",\"train\")\n",
    "val_dir=os.path.join(\"small_train\",\"val\")\n",
    "train_gener=getGen(train_gen,train_dir)\n",
    "val_gener=getGen(test_gen,val_dir)\n"
   ]
  },
  {
   "cell_type": "markdown",
   "metadata": {},
   "source": [
    "# Attention! We just used VGG16 as the pretrained model, so make the learning rate small, like e-5."
   ]
  },
  {
   "cell_type": "code",
   "execution_count": 9,
   "metadata": {
    "collapsed": false
   },
   "outputs": [
    {
     "name": "stdout",
     "output_type": "stream",
     "text": [
      "Epoch 1/30\n",
      "100/100 [==============================] - 27s 270ms/step - loss: 0.3565 - acc: 0.8390 - val_loss: 0.2951 - val_acc: 0.8780\n",
      "Epoch 2/30\n",
      "100/100 [==============================] - 27s 266ms/step - loss: 0.3573 - acc: 0.8315 - val_loss: 0.2963 - val_acc: 0.8820\n",
      "Epoch 3/30\n",
      "100/100 [==============================] - 27s 266ms/step - loss: 0.3580 - acc: 0.8445 - val_loss: 0.2920 - val_acc: 0.8790\n",
      "Epoch 4/30\n",
      "100/100 [==============================] - 27s 267ms/step - loss: 0.3585 - acc: 0.8380 - val_loss: 0.2906 - val_acc: 0.8800\n",
      "Epoch 5/30\n",
      "100/100 [==============================] - 27s 265ms/step - loss: 0.3621 - acc: 0.8315 - val_loss: 0.2902 - val_acc: 0.8830\n",
      "Epoch 6/30\n",
      "100/100 [==============================] - 26s 262ms/step - loss: 0.3486 - acc: 0.8460 - val_loss: 0.2903 - val_acc: 0.8830\n",
      "Epoch 7/30\n",
      "100/100 [==============================] - 27s 267ms/step - loss: 0.3493 - acc: 0.8415 - val_loss: 0.2889 - val_acc: 0.8820\n",
      "Epoch 8/30\n",
      "100/100 [==============================] - 27s 266ms/step - loss: 0.3640 - acc: 0.8315 - val_loss: 0.2863 - val_acc: 0.8830\n",
      "Epoch 9/30\n",
      "100/100 [==============================] - 27s 266ms/step - loss: 0.3577 - acc: 0.8460 - val_loss: 0.2858 - val_acc: 0.8830\n",
      "Epoch 10/30\n",
      "100/100 [==============================] - 27s 265ms/step - loss: 0.3425 - acc: 0.8455 - val_loss: 0.2858 - val_acc: 0.8840\n",
      "Epoch 11/30\n",
      "100/100 [==============================] - 27s 265ms/step - loss: 0.3454 - acc: 0.8355 - val_loss: 0.2873 - val_acc: 0.8860\n",
      "Epoch 12/30\n",
      "100/100 [==============================] - 27s 265ms/step - loss: 0.3301 - acc: 0.8515 - val_loss: 0.2851 - val_acc: 0.8840\n",
      "Epoch 13/30\n",
      "100/100 [==============================] - 27s 265ms/step - loss: 0.3401 - acc: 0.8460 - val_loss: 0.2854 - val_acc: 0.8870\n",
      "Epoch 14/30\n",
      "100/100 [==============================] - 27s 266ms/step - loss: 0.3546 - acc: 0.8380 - val_loss: 0.2850 - val_acc: 0.8850\n",
      "Epoch 15/30\n",
      "100/100 [==============================] - 27s 266ms/step - loss: 0.3506 - acc: 0.8415 - val_loss: 0.2847 - val_acc: 0.8840\n",
      "Epoch 16/30\n",
      "100/100 [==============================] - 27s 265ms/step - loss: 0.3345 - acc: 0.8520 - val_loss: 0.2815 - val_acc: 0.8820\n",
      "Epoch 17/30\n",
      "100/100 [==============================] - 27s 266ms/step - loss: 0.3329 - acc: 0.8425 - val_loss: 0.2842 - val_acc: 0.8840\n",
      "Epoch 18/30\n",
      "100/100 [==============================] - 27s 265ms/step - loss: 0.3297 - acc: 0.8540 - val_loss: 0.2844 - val_acc: 0.8830\n",
      "Epoch 19/30\n",
      "100/100 [==============================] - 27s 266ms/step - loss: 0.3397 - acc: 0.8500 - val_loss: 0.2867 - val_acc: 0.8810\n",
      "Epoch 20/30\n",
      "100/100 [==============================] - 27s 266ms/step - loss: 0.3263 - acc: 0.8590 - val_loss: 0.2870 - val_acc: 0.8800\n",
      "Epoch 21/30\n",
      "100/100 [==============================] - 27s 266ms/step - loss: 0.3301 - acc: 0.8560 - val_loss: 0.2822 - val_acc: 0.8800\n",
      "Epoch 22/30\n",
      "100/100 [==============================] - 27s 266ms/step - loss: 0.3332 - acc: 0.8535 - val_loss: 0.2830 - val_acc: 0.8830\n",
      "Epoch 23/30\n",
      "100/100 [==============================] - 27s 269ms/step - loss: 0.3326 - acc: 0.8515 - val_loss: 0.2841 - val_acc: 0.8830\n",
      "Epoch 24/30\n",
      "100/100 [==============================] - 27s 267ms/step - loss: 0.3280 - acc: 0.8510 - val_loss: 0.2835 - val_acc: 0.8830\n",
      "Epoch 25/30\n",
      "100/100 [==============================] - 27s 268ms/step - loss: 0.3204 - acc: 0.8545 - val_loss: 0.2778 - val_acc: 0.8800\n",
      "Epoch 26/30\n",
      "100/100 [==============================] - 27s 267ms/step - loss: 0.3235 - acc: 0.8635 - val_loss: 0.2842 - val_acc: 0.8800\n",
      "Epoch 27/30\n",
      "100/100 [==============================] - 27s 266ms/step - loss: 0.3329 - acc: 0.8565 - val_loss: 0.2812 - val_acc: 0.8810\n",
      "Epoch 28/30\n",
      "100/100 [==============================] - 27s 266ms/step - loss: 0.3280 - acc: 0.8525 - val_loss: 0.2787 - val_acc: 0.8850\n",
      "Epoch 29/30\n",
      "100/100 [==============================] - 27s 266ms/step - loss: 0.3107 - acc: 0.8745 - val_loss: 0.2837 - val_acc: 0.8810\n",
      "Epoch 30/30\n",
      "100/100 [==============================] - 27s 266ms/step - loss: 0.3259 - acc: 0.8610 - val_loss: 0.2836 - val_acc: 0.8810\n"
     ]
    }
   ],
   "source": [
    "from keras import optimizers\n",
    "model.compile(\n",
    "            #optimizer=\"rmsprop\",\n",
    "             optimizer=optimizers.RMSprop(lr=2e-5),\n",
    "             loss=\"binary_crossentropy\",\n",
    "             metrics=[\"acc\"])\n",
    "history=model.fit_generator(train_gener,\n",
    "                            steps_per_epoch=100,\n",
    "                            epochs=30,\n",
    "                            validation_data=val_gener,\n",
    "                            validation_steps=50)"
   ]
  },
  {
   "cell_type": "code",
   "execution_count": 11,
   "metadata": {
    "collapsed": false
   },
   "outputs": [
    {
     "name": "stdout",
     "output_type": "stream",
     "text": [
      "Found 1000 images belonging to 2 classes.\n",
      "Test loss: 0.262577472031. Test acc: 0.893999993801\n"
     ]
    }
   ],
   "source": [
    "test_dir=os.path.join(\"small_train\",\"test\")\n",
    "test_gener=getGen(test_gen,test_dir)\n",
    "loss,acc=model.evaluate_generator(test_gener)\n",
    "\n",
    "print(\"Test loss: \"+str(loss)+\". Test acc: \"+str(acc))"
   ]
  },
  {
   "cell_type": "code",
   "execution_count": null,
   "metadata": {
    "collapsed": true
   },
   "outputs": [],
   "source": []
  }
 ],
 "metadata": {
  "anaconda-cloud": {},
  "kernelspec": {
   "display_name": "Python [conda root]",
   "language": "python",
   "name": "conda-root-py"
  },
  "language_info": {
   "codemirror_mode": {
    "name": "ipython",
    "version": 3
   },
   "file_extension": ".py",
   "mimetype": "text/x-python",
   "name": "python",
   "nbconvert_exporter": "python",
   "pygments_lexer": "ipython3",
   "version": "3.5.2"
  }
 },
 "nbformat": 4,
 "nbformat_minor": 2
}
