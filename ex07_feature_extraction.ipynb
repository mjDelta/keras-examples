{
 "cells": [
  {
   "cell_type": "markdown",
   "metadata": {},
   "source": [
    "# Use pretrained model from feature extraction"
   ]
  },
  {
   "cell_type": "code",
   "execution_count": 1,
   "metadata": {
    "collapsed": false
   },
   "outputs": [
    {
     "name": "stderr",
     "output_type": "stream",
     "text": [
      "Using TensorFlow backend.\n"
     ]
    },
    {
     "name": "stdout",
     "output_type": "stream",
     "text": [
      "_________________________________________________________________\n",
      "Layer (type)                 Output Shape              Param #   \n",
      "=================================================================\n",
      "input_1 (InputLayer)         (None, 150, 150, 3)       0         \n",
      "_________________________________________________________________\n",
      "block1_conv1 (Conv2D)        (None, 150, 150, 64)      1792      \n",
      "_________________________________________________________________\n",
      "block1_conv2 (Conv2D)        (None, 150, 150, 64)      36928     \n",
      "_________________________________________________________________\n",
      "block1_pool (MaxPooling2D)   (None, 75, 75, 64)        0         \n",
      "_________________________________________________________________\n",
      "block2_conv1 (Conv2D)        (None, 75, 75, 128)       73856     \n",
      "_________________________________________________________________\n",
      "block2_conv2 (Conv2D)        (None, 75, 75, 128)       147584    \n",
      "_________________________________________________________________\n",
      "block2_pool (MaxPooling2D)   (None, 37, 37, 128)       0         \n",
      "_________________________________________________________________\n",
      "block3_conv1 (Conv2D)        (None, 37, 37, 256)       295168    \n",
      "_________________________________________________________________\n",
      "block3_conv2 (Conv2D)        (None, 37, 37, 256)       590080    \n",
      "_________________________________________________________________\n",
      "block3_conv3 (Conv2D)        (None, 37, 37, 256)       590080    \n",
      "_________________________________________________________________\n",
      "block3_pool (MaxPooling2D)   (None, 18, 18, 256)       0         \n",
      "_________________________________________________________________\n",
      "block4_conv1 (Conv2D)        (None, 18, 18, 512)       1180160   \n",
      "_________________________________________________________________\n",
      "block4_conv2 (Conv2D)        (None, 18, 18, 512)       2359808   \n",
      "_________________________________________________________________\n",
      "block4_conv3 (Conv2D)        (None, 18, 18, 512)       2359808   \n",
      "_________________________________________________________________\n",
      "block4_pool (MaxPooling2D)   (None, 9, 9, 512)         0         \n",
      "_________________________________________________________________\n",
      "block5_conv1 (Conv2D)        (None, 9, 9, 512)         2359808   \n",
      "_________________________________________________________________\n",
      "block5_conv2 (Conv2D)        (None, 9, 9, 512)         2359808   \n",
      "_________________________________________________________________\n",
      "block5_conv3 (Conv2D)        (None, 9, 9, 512)         2359808   \n",
      "_________________________________________________________________\n",
      "block5_pool (MaxPooling2D)   (None, 4, 4, 512)         0         \n",
      "=================================================================\n",
      "Total params: 14,714,688\n",
      "Trainable params: 14,714,688\n",
      "Non-trainable params: 0\n",
      "_________________________________________________________________\n"
     ]
    }
   ],
   "source": [
    "from keras.applications import VGG16\n",
    "conv_base=VGG16(weights=\"imagenet\",\n",
    "               include_top=False,\n",
    "               input_shape=(150,150,3))\n",
    "\n",
    "conv_base.summary()"
   ]
  },
  {
   "cell_type": "markdown",
   "metadata": {},
   "source": [
    "# Use VGG16 to extract features for the next Dense Layers"
   ]
  },
  {
   "cell_type": "code",
   "execution_count": 4,
   "metadata": {
    "collapsed": false
   },
   "outputs": [
    {
     "name": "stdout",
     "output_type": "stream",
     "text": [
      "Found 2000 images belonging to 2 classes.\n",
      "Found 1000 images belonging to 2 classes.\n",
      "Found 1000 images belonging to 2 classes.\n",
      "Train Shape:(2000, 8192)\n"
     ]
    }
   ],
   "source": [
    "import os\n",
    "from keras.preprocessing.image import ImageDataGenerator\n",
    "import numpy as np\n",
    "\n",
    "base_dir=\"small_train\"\n",
    "train_dir=os.path.join(base_dir,\"train\")\n",
    "val_dir=os.path.join(base_dir,\"val\")\n",
    "test_dir=os.path.join(base_dir,\"test\")\n",
    "datagen=ImageDataGenerator(rescale=1/255.)\n",
    "batch_size=20\n",
    "\n",
    "def extract_features(dir_,sample_count):\n",
    "    features=np.zeros((sample_count,4*4*512))\n",
    "    labels=np.zeros((sample_count))\n",
    "    generator=datagen.flow_from_directory(dir_,\n",
    "                                         target_size=(150,150),\n",
    "                                         batch_size=batch_size,\n",
    "                                         class_mode=\"binary\")\n",
    "    i=0\n",
    "    for data,label in generator:\n",
    "        pred=conv_base.predict(data)\n",
    "        features[i*batch_size:(i+1)*batch_size]=pred.reshape((batch_size,4*4*512))\n",
    "        labels[i*batch_size:(i+1)*batch_size]=label\n",
    "        i=i+1\n",
    "        if i*batch_size>=sample_count:\n",
    "            break\n",
    "    return features,labels\n",
    "\n",
    "train_features,train_labels=extract_features(train_dir,2000)\n",
    "val_features,val_labels=extract_features(val_dir,1000)\n",
    "test_features,test_labels=extract_features(test_dir,1000)\n",
    "\n",
    "print(\"Train Shape:\"+str(train_features.shape))\n",
    "print(\"Val Shape:\"+str(val_features.shape))\n",
    "print(\"Test Shape:\"+str(test_features.shape))"
   ]
  },
  {
   "cell_type": "markdown",
   "metadata": {},
   "source": [
    "# Build Dense Network "
   ]
  },
  {
   "cell_type": "code",
   "execution_count": 5,
   "metadata": {
    "collapsed": true
   },
   "outputs": [],
   "source": [
    "from keras import models\n",
    "from keras import layers\n",
    "from keras import optimizers\n",
    "\n",
    "model=models.Sequential()\n",
    "model.add(layers.Dense(256,activation=\"relu\",input_dim=4*4*512))\n",
    "model.add(layers.Dropout(0.5))\n",
    "model.add(layers.Dense(1,activation=\"sigmoid\"))\n",
    "model.compile(optimizer=optimizers.RMSprop(lr=2e-5),\n",
    "             loss=\"binary_crossentropy\",\n",
    "             metrics=[\"acc\"])\n",
    "\n"
   ]
  },
  {
   "cell_type": "code",
   "execution_count": 6,
   "metadata": {
    "collapsed": false
   },
   "outputs": [
    {
     "name": "stdout",
     "output_type": "stream",
     "text": [
      "Train on 2000 samples, validate on 1000 samples\n",
      "Epoch 1/30\n",
      "2000/2000 [==============================] - 1s 549us/step - loss: 0.5901 - acc: 0.6800 - val_loss: 0.4802 - val_acc: 0.7720\n",
      "Epoch 2/30\n",
      "2000/2000 [==============================] - 1s 369us/step - loss: 0.4192 - acc: 0.8125 - val_loss: 0.3762 - val_acc: 0.8450\n",
      "Epoch 3/30\n",
      "2000/2000 [==============================] - 1s 380us/step - loss: 0.3522 - acc: 0.8500 - val_loss: 0.3437 - val_acc: 0.8570\n",
      "Epoch 4/30\n",
      "2000/2000 [==============================] - 1s 400us/step - loss: 0.3151 - acc: 0.8595 - val_loss: 0.3237 - val_acc: 0.8610\n",
      "Epoch 5/30\n",
      "2000/2000 [==============================] - 1s 385us/step - loss: 0.2836 - acc: 0.8855 - val_loss: 0.3121 - val_acc: 0.8610\n",
      "Epoch 6/30\n",
      "2000/2000 [==============================] - 1s 370us/step - loss: 0.2587 - acc: 0.9000 - val_loss: 0.3011 - val_acc: 0.8690\n",
      "Epoch 7/30\n",
      "2000/2000 [==============================] - 1s 404us/step - loss: 0.2471 - acc: 0.9020 - val_loss: 0.2936 - val_acc: 0.8750\n",
      "Epoch 8/30\n",
      "2000/2000 [==============================] - 1s 373us/step - loss: 0.2438 - acc: 0.9085 - val_loss: 0.2879 - val_acc: 0.8750\n",
      "Epoch 9/30\n",
      "2000/2000 [==============================] - 1s 388us/step - loss: 0.2157 - acc: 0.9180 - val_loss: 0.2844 - val_acc: 0.8750\n",
      "Epoch 10/30\n",
      "2000/2000 [==============================] - 1s 374us/step - loss: 0.2021 - acc: 0.9270 - val_loss: 0.2877 - val_acc: 0.8750\n",
      "Epoch 11/30\n",
      "2000/2000 [==============================] - 1s 405us/step - loss: 0.1981 - acc: 0.9230 - val_loss: 0.2789 - val_acc: 0.8900\n",
      "Epoch 12/30\n",
      "2000/2000 [==============================] - 1s 384us/step - loss: 0.1862 - acc: 0.9330 - val_loss: 0.2733 - val_acc: 0.8870\n",
      "Epoch 13/30\n",
      "2000/2000 [==============================] - 1s 395us/step - loss: 0.1732 - acc: 0.9420 - val_loss: 0.2701 - val_acc: 0.8900\n",
      "Epoch 14/30\n",
      "2000/2000 [==============================] - 1s 401us/step - loss: 0.1757 - acc: 0.9350 - val_loss: 0.2738 - val_acc: 0.8800\n",
      "Epoch 15/30\n",
      "2000/2000 [==============================] - 1s 384us/step - loss: 0.1692 - acc: 0.9400 - val_loss: 0.2673 - val_acc: 0.8930\n",
      "Epoch 16/30\n",
      "2000/2000 [==============================] - 1s 394us/step - loss: 0.1548 - acc: 0.9465 - val_loss: 0.2638 - val_acc: 0.8880\n",
      "Epoch 17/30\n",
      "2000/2000 [==============================] - 1s 398us/step - loss: 0.1456 - acc: 0.9515 - val_loss: 0.2643 - val_acc: 0.8890\n",
      "Epoch 18/30\n",
      "2000/2000 [==============================] - 1s 389us/step - loss: 0.1425 - acc: 0.9530 - val_loss: 0.2673 - val_acc: 0.8840\n",
      "Epoch 19/30\n",
      "2000/2000 [==============================] - 1s 403us/step - loss: 0.1387 - acc: 0.9525 - val_loss: 0.2633 - val_acc: 0.8910\n",
      "Epoch 20/30\n",
      "2000/2000 [==============================] - 1s 393us/step - loss: 0.1314 - acc: 0.9575 - val_loss: 0.2752 - val_acc: 0.8780\n",
      "Epoch 21/30\n",
      "2000/2000 [==============================] - 1s 415us/step - loss: 0.1291 - acc: 0.9585 - val_loss: 0.2622 - val_acc: 0.8880\n",
      "Epoch 22/30\n",
      "2000/2000 [==============================] - 1s 392us/step - loss: 0.1224 - acc: 0.9580 - val_loss: 0.2671 - val_acc: 0.8980\n",
      "Epoch 23/30\n",
      "2000/2000 [==============================] - 1s 409us/step - loss: 0.1191 - acc: 0.9615 - val_loss: 0.2620 - val_acc: 0.8910\n",
      "Epoch 24/30\n",
      "2000/2000 [==============================] - 1s 407us/step - loss: 0.1123 - acc: 0.9670 - val_loss: 0.2660 - val_acc: 0.8850\n",
      "Epoch 25/30\n",
      "2000/2000 [==============================] - 1s 462us/step - loss: 0.1087 - acc: 0.9645 - val_loss: 0.2613 - val_acc: 0.8920\n",
      "Epoch 26/30\n",
      "2000/2000 [==============================] - 1s 396us/step - loss: 0.1037 - acc: 0.9695 - val_loss: 0.2728 - val_acc: 0.8820\n",
      "Epoch 27/30\n",
      "2000/2000 [==============================] - 1s 411us/step - loss: 0.0984 - acc: 0.9710 - val_loss: 0.2639 - val_acc: 0.8900\n",
      "Epoch 28/30\n",
      "2000/2000 [==============================] - 1s 417us/step - loss: 0.0946 - acc: 0.9760 - val_loss: 0.2654 - val_acc: 0.8880\n",
      "Epoch 29/30\n",
      "2000/2000 [==============================] - 1s 416us/step - loss: 0.0951 - acc: 0.9710 - val_loss: 0.2659 - val_acc: 0.8940\n",
      "Epoch 30/30\n",
      "2000/2000 [==============================] - 1s 396us/step - loss: 0.0905 - acc: 0.9785 - val_loss: 0.2718 - val_acc: 0.8860\n"
     ]
    }
   ],
   "source": [
    "history=model.fit(train_features,train_labels,\n",
    "                 epochs=30,\n",
    "                 batch_size=20,\n",
    "                 validation_data=(val_features,val_labels))"
   ]
  },
  {
   "cell_type": "markdown",
   "metadata": {},
   "source": [
    "# Test model"
   ]
  },
  {
   "cell_type": "code",
   "execution_count": 7,
   "metadata": {
    "collapsed": false
   },
   "outputs": [
    {
     "name": "stdout",
     "output_type": "stream",
     "text": [
      "1000/1000 [==============================] - 0s 136us/step\n"
     ]
    }
   ],
   "source": [
    "test_loss,test_acc=model.evaluate(x=test_features,y=test_labels)"
   ]
  },
  {
   "cell_type": "code",
   "execution_count": 8,
   "metadata": {
    "collapsed": false
   },
   "outputs": [
    {
     "name": "stdout",
     "output_type": "stream",
     "text": [
      "Testing loss:0.250557586551. Test acc:0.898\n"
     ]
    }
   ],
   "source": [
    "print(\"Testing loss:\"+str(test_loss)+\". Test acc:\"+str(test_acc))"
   ]
  },
  {
   "cell_type": "code",
   "execution_count": null,
   "metadata": {
    "collapsed": true
   },
   "outputs": [],
   "source": []
  }
 ],
 "metadata": {
  "anaconda-cloud": {},
  "kernelspec": {
   "display_name": "Python [conda root]",
   "language": "python",
   "name": "conda-root-py"
  },
  "language_info": {
   "codemirror_mode": {
    "name": "ipython",
    "version": 3
   },
   "file_extension": ".py",
   "mimetype": "text/x-python",
   "name": "python",
   "nbconvert_exporter": "python",
   "pygments_lexer": "ipython3",
   "version": "3.5.2"
  }
 },
 "nbformat": 4,
 "nbformat_minor": 2
}
