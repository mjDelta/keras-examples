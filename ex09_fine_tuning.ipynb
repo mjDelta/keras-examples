{
 "cells": [
  {
   "cell_type": "markdown",
   "metadata": {},
   "source": [
    "# Fine Tuning Model\n",
    "#### 1. Only train added layers.\n",
    "#### 2. Unfreeze some layers of base model. "
   ]
  },
  {
   "cell_type": "code",
   "execution_count": 1,
   "metadata": {
    "collapsed": false
   },
   "outputs": [
    {
     "name": "stderr",
     "output_type": "stream",
     "text": [
      "Using TensorFlow backend.\n"
     ]
    }
   ],
   "source": [
    "from keras.applications import VGG16\n",
    "conv_base=VGG16(weights=\"imagenet\",\n",
    "               include_top=False,\n",
    "               input_shape=(150,150,3))"
   ]
  },
  {
   "cell_type": "code",
   "execution_count": 2,
   "metadata": {
    "collapsed": false
   },
   "outputs": [
    {
     "name": "stdout",
     "output_type": "stream",
     "text": [
      "_________________________________________________________________\n",
      "Layer (type)                 Output Shape              Param #   \n",
      "=================================================================\n",
      "vgg16 (Model)                (None, 4, 4, 512)         14714688  \n",
      "_________________________________________________________________\n",
      "flatten_1 (Flatten)          (None, 8192)              0         \n",
      "_________________________________________________________________\n",
      "dense_1 (Dense)              (None, 256)               2097408   \n",
      "_________________________________________________________________\n",
      "dense_2 (Dense)              (None, 1)                 257       \n",
      "=================================================================\n",
      "Total params: 16,812,353\n",
      "Trainable params: 16,812,353\n",
      "Non-trainable params: 0\n",
      "_________________________________________________________________\n"
     ]
    }
   ],
   "source": [
    "from keras import layers\n",
    "from keras import models\n",
    "\n",
    "model=models.Sequential()\n",
    "model.add(conv_base)\n",
    "model.add(layers.Flatten())\n",
    "model.add(layers.Dense(256,activation=\"relu\"))\n",
    "model.add(layers.Dense(1,activation=\"sigmoid\"))\n",
    "\n",
    "model.summary()"
   ]
  },
  {
   "cell_type": "markdown",
   "metadata": {},
   "source": [
    "# Freeze conv_base's params"
   ]
  },
  {
   "cell_type": "code",
   "execution_count": 3,
   "metadata": {
    "collapsed": false
   },
   "outputs": [
    {
     "name": "stdout",
     "output_type": "stream",
     "text": [
      "Before freezing, trainable params num: 30\n",
      "After freezing, trainable params num: 4\n"
     ]
    }
   ],
   "source": [
    "print(\"Before freezing, trainable params num: \"+str(len(model.trainable_weights)))\n",
    "conv_base.trainable=False\n",
    "print(\"After freezing, trainable params num: \"+str(len(model.trainable_weights)))"
   ]
  },
  {
   "cell_type": "code",
   "execution_count": 4,
   "metadata": {
    "collapsed": false
   },
   "outputs": [
    {
     "name": "stdout",
     "output_type": "stream",
     "text": [
      "Found 2000 images belonging to 2 classes.\n",
      "Found 1000 images belonging to 2 classes.\n"
     ]
    }
   ],
   "source": [
    "from keras.preprocessing.image import ImageDataGenerator\n",
    "import os\n",
    "train_gen=ImageDataGenerator(rescale=1/255.,\n",
    "                            rotation_range=40,\n",
    "                            width_shift_range=0.2,\n",
    "                            height_shift_range=0.2,\n",
    "                            shear_range=0.2,\n",
    "                            zoom_range=0.2,\n",
    "                            horizontal_flip=True,\n",
    "                            fill_mode=\"nearest\")\n",
    "test_gen=ImageDataGenerator(rescale=1/255.)\n",
    "\n",
    "def getGen(gen,dir_):\n",
    "    return gen.flow_from_directory(dir_,\n",
    "                                  target_size=(150,150),\n",
    "                                  batch_size=20,\n",
    "                                  class_mode=\"binary\")\n",
    "train_dir=os.path.join(\"small_train\",\"train\")\n",
    "val_dir=os.path.join(\"small_train\",\"val\")\n",
    "train_gener=getGen(train_gen,train_dir)\n",
    "val_gener=getGen(test_gen,val_dir)\n"
   ]
  },
  {
   "cell_type": "markdown",
   "metadata": {},
   "source": [
    "# Attention! We just used VGG16 as the pretrained model, so make the learning rate small, like e-5."
   ]
  },
  {
   "cell_type": "code",
   "execution_count": 5,
   "metadata": {
    "collapsed": false
   },
   "outputs": [
    {
     "name": "stdout",
     "output_type": "stream",
     "text": [
      "Epoch 1/20\n",
      "100/100 [==============================] - 29s 286ms/step - loss: 0.6018 - acc: 0.6720 - val_loss: 0.4374 - val_acc: 0.8130\n",
      "Epoch 2/20\n",
      "100/100 [==============================] - 27s 269ms/step - loss: 0.4875 - acc: 0.7800 - val_loss: 0.3847 - val_acc: 0.8330\n",
      "Epoch 3/20\n",
      "100/100 [==============================] - 26s 265ms/step - loss: 0.4372 - acc: 0.7965 - val_loss: 0.3316 - val_acc: 0.8510\n",
      "Epoch 4/20\n",
      "100/100 [==============================] - 26s 264ms/step - loss: 0.4152 - acc: 0.8130 - val_loss: 0.3126 - val_acc: 0.8640\n",
      "Epoch 5/20\n",
      "100/100 [==============================] - 27s 268ms/step - loss: 0.3959 - acc: 0.8265 - val_loss: 0.3062 - val_acc: 0.8590\n",
      "Epoch 6/20\n",
      "100/100 [==============================] - 26s 264ms/step - loss: 0.3807 - acc: 0.8260 - val_loss: 0.2933 - val_acc: 0.8670\n",
      "Epoch 7/20\n",
      "100/100 [==============================] - 26s 264ms/step - loss: 0.3731 - acc: 0.8320 - val_loss: 0.2858 - val_acc: 0.8700\n",
      "Epoch 8/20\n",
      "100/100 [==============================] - 27s 269ms/step - loss: 0.3670 - acc: 0.8355 - val_loss: 0.2913 - val_acc: 0.8780\n",
      "Epoch 9/20\n",
      "100/100 [==============================] - 27s 268ms/step - loss: 0.3628 - acc: 0.8375 - val_loss: 0.2787 - val_acc: 0.8690\n",
      "Epoch 10/20\n",
      "100/100 [==============================] - 26s 264ms/step - loss: 0.3500 - acc: 0.8450 - val_loss: 0.2715 - val_acc: 0.8730\n",
      "Epoch 11/20\n",
      "100/100 [==============================] - 27s 269ms/step - loss: 0.3590 - acc: 0.8360 - val_loss: 0.2686 - val_acc: 0.8750\n",
      "Epoch 12/20\n",
      "100/100 [==============================] - 26s 263ms/step - loss: 0.3564 - acc: 0.8445 - val_loss: 0.2666 - val_acc: 0.8800\n",
      "Epoch 13/20\n",
      "100/100 [==============================] - 26s 264ms/step - loss: 0.3369 - acc: 0.8480 - val_loss: 0.2662 - val_acc: 0.8800\n",
      "Epoch 14/20\n",
      "100/100 [==============================] - 27s 270ms/step - loss: 0.3336 - acc: 0.8480 - val_loss: 0.2754 - val_acc: 0.8780\n",
      "Epoch 15/20\n",
      "100/100 [==============================] - 27s 268ms/step - loss: 0.3375 - acc: 0.8445 - val_loss: 0.2787 - val_acc: 0.8830\n",
      "Epoch 16/20\n",
      "100/100 [==============================] - 27s 268ms/step - loss: 0.3299 - acc: 0.8580 - val_loss: 0.2639 - val_acc: 0.8870\n",
      "Epoch 17/20\n",
      "100/100 [==============================] - 27s 268ms/step - loss: 0.3356 - acc: 0.8440 - val_loss: 0.2607 - val_acc: 0.8870\n",
      "Epoch 18/20\n",
      "100/100 [==============================] - 27s 268ms/step - loss: 0.3294 - acc: 0.8495 - val_loss: 0.2610 - val_acc: 0.8870\n",
      "Epoch 19/20\n",
      "100/100 [==============================] - 27s 268ms/step - loss: 0.3225 - acc: 0.8585 - val_loss: 0.2579 - val_acc: 0.8940\n",
      "Epoch 20/20\n",
      "100/100 [==============================] - 27s 268ms/step - loss: 0.3185 - acc: 0.8550 - val_loss: 0.2595 - val_acc: 0.8890\n"
     ]
    }
   ],
   "source": [
    "from keras import optimizers\n",
    "model.compile(\n",
    "            #optimizer=\"rmsprop\",\n",
    "             optimizer=optimizers.RMSprop(lr=2e-5),\n",
    "             loss=\"binary_crossentropy\",\n",
    "             metrics=[\"acc\"])\n",
    "history=model.fit_generator(train_gener,\n",
    "                            steps_per_epoch=100,\n",
    "                            epochs=20,\n",
    "                            validation_data=val_gener,\n",
    "                            validation_steps=50)"
   ]
  },
  {
   "cell_type": "markdown",
   "metadata": {},
   "source": [
    "# Unfreeze some top layers of base model"
   ]
  },
  {
   "cell_type": "code",
   "execution_count": 6,
   "metadata": {
    "collapsed": true
   },
   "outputs": [],
   "source": [
    "conv_base.trainable=True\n",
    "set_trainable=False\n",
    "for layer in conv_base.layers:\n",
    "    if layer.name==\"block5_conv1\":\n",
    "        set_trainable=True\n",
    "    layer.trainable=set_trainable\n",
    "    "
   ]
  },
  {
   "cell_type": "markdown",
   "metadata": {},
   "source": [
    "# Retrain the model"
   ]
  },
  {
   "cell_type": "code",
   "execution_count": 7,
   "metadata": {
    "collapsed": false
   },
   "outputs": [
    {
     "name": "stderr",
     "output_type": "stream",
     "text": [
      "C:\\Users\\test07\\Anaconda3\\lib\\site-packages\\keras\\engine\\training.py:973: UserWarning: Discrepancy between trainable weights and collected trainable weights, did you set `model.trainable` without calling `model.compile` after ?\n",
      "  'Discrepancy between trainable weights and collected trainable'\n"
     ]
    },
    {
     "name": "stdout",
     "output_type": "stream",
     "text": [
      "Epoch 1/10\n",
      "100/100 [==============================] - 27s 271ms/step - loss: 0.3302 - acc: 0.8545 - val_loss: 0.2591 - val_acc: 0.8930\n",
      "Epoch 2/10\n",
      "100/100 [==============================] - 27s 268ms/step - loss: 0.3206 - acc: 0.8575 - val_loss: 0.2590 - val_acc: 0.8960\n",
      "Epoch 3/10\n",
      "100/100 [==============================] - 27s 267ms/step - loss: 0.3191 - acc: 0.8600 - val_loss: 0.2569 - val_acc: 0.8940\n",
      "Epoch 4/10\n",
      "100/100 [==============================] - 27s 268ms/step - loss: 0.2999 - acc: 0.8685 - val_loss: 0.2657 - val_acc: 0.8850\n",
      "Epoch 5/10\n",
      "100/100 [==============================] - 27s 268ms/step - loss: 0.3167 - acc: 0.8570 - val_loss: 0.2510 - val_acc: 0.8990\n",
      "Epoch 6/10\n",
      "100/100 [==============================] - 27s 268ms/step - loss: 0.3110 - acc: 0.8605 - val_loss: 0.2545 - val_acc: 0.8950\n",
      "Epoch 7/10\n",
      "100/100 [==============================] - 27s 267ms/step - loss: 0.2994 - acc: 0.8740 - val_loss: 0.2582 - val_acc: 0.8940\n",
      "Epoch 8/10\n",
      "100/100 [==============================] - 27s 267ms/step - loss: 0.3101 - acc: 0.8630 - val_loss: 0.2766 - val_acc: 0.8830\n",
      "Epoch 9/10\n",
      "100/100 [==============================] - 27s 267ms/step - loss: 0.3054 - acc: 0.8595 - val_loss: 0.2585 - val_acc: 0.8920\n",
      "Epoch 10/10\n",
      "100/100 [==============================] - 27s 268ms/step - loss: 0.3028 - acc: 0.8775 - val_loss: 0.2698 - val_acc: 0.8910\n"
     ]
    }
   ],
   "source": [
    "history=model.fit_generator(train_gener,\n",
    "                           steps_per_epoch=100,\n",
    "                           epochs=10,\n",
    "                           validation_data=val_gener,\n",
    "                           validation_steps=50)"
   ]
  },
  {
   "cell_type": "code",
   "execution_count": 8,
   "metadata": {
    "collapsed": false
   },
   "outputs": [
    {
     "name": "stdout",
     "output_type": "stream",
     "text": [
      "Found 1000 images belonging to 2 classes.\n",
      "Test loss: 0.251066983044. Test acc: 0.900999996662\n"
     ]
    }
   ],
   "source": [
    "test_dir=os.path.join(\"small_train\",\"test\")\n",
    "test_gener=getGen(test_gen,test_dir)\n",
    "loss,acc=model.evaluate_generator(test_gener)\n",
    "\n",
    "print(\"Test loss: \"+str(loss)+\". Test acc: \"+str(acc))"
   ]
  },
  {
   "cell_type": "code",
   "execution_count": null,
   "metadata": {
    "collapsed": true
   },
   "outputs": [],
   "source": []
  }
 ],
 "metadata": {
  "anaconda-cloud": {},
  "kernelspec": {
   "display_name": "Python [conda root]",
   "language": "python",
   "name": "conda-root-py"
  },
  "language_info": {
   "codemirror_mode": {
    "name": "ipython",
    "version": 3
   },
   "file_extension": ".py",
   "mimetype": "text/x-python",
   "name": "python",
   "nbconvert_exporter": "python",
   "pygments_lexer": "ipython3",
   "version": "3.5.2"
  }
 },
 "nbformat": 4,
 "nbformat_minor": 2
}
