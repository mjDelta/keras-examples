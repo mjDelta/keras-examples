{
 "cells": [
  {
   "cell_type": "markdown",
   "metadata": {},
   "source": [
    "# Preprocess content image, style image"
   ]
  },
  {
   "cell_type": "code",
   "execution_count": 1,
   "metadata": {
    "collapsed": false
   },
   "outputs": [
    {
     "name": "stderr",
     "output_type": "stream",
     "text": [
      "Using TensorFlow backend.\n"
     ]
    }
   ],
   "source": [
    "from keras.preprocessing.image import load_img,img_to_array\n",
    "import numpy as np\n",
    "from keras.applications import vgg19\n",
    "content_img_path=\"content5.jpg\"\n",
    "style_img_path=\"style3.jpg\"\n",
    "\n",
    "w,h=load_img(content_img_path).size\n",
    "img_h=400\n",
    "img_w=int(w*img_h/h)\n",
    "\n",
    "def preprocess(path):\n",
    "    img=load_img(path,target_size=(img_h,img_w))\n",
    "    img=img_to_array(img)\n",
    "    img=np.expand_dims(img,axis=0)\n",
    "    img=vgg19.preprocess_input(img)\n",
    "    return img\n",
    "def deprocess(img):\n",
    "    img[:,:,0]+=103.939\n",
    "    img[:,:,1]+=116.779\n",
    "    img[:,:,2]+=123.68\n",
    "    \n",
    "    img=img[:,:,::-1]\n",
    "    img=np.clip(img,0,255).astype(\"uint8\")\n",
    "    return img"
   ]
  },
  {
   "cell_type": "markdown",
   "metadata": {},
   "source": [
    "# Define input, and load model"
   ]
  },
  {
   "cell_type": "code",
   "execution_count": 2,
   "metadata": {
    "collapsed": false
   },
   "outputs": [],
   "source": [
    "import keras.backend as K\n",
    "\n",
    "content_img=K.constant(preprocess(content_img_path))\n",
    "style_img=K.constant(preprocess(style_img_path))\n",
    "combined_img=K.placeholder((1,img_h,img_w,3))\n",
    "\n",
    "input_tensor=K.concatenate([content_img,\n",
    "                           style_img,\n",
    "                           combined_img],axis=0)\n",
    "model=vgg19.VGG19(input_tensor=input_tensor,\n",
    "                 weights=\"imagenet\",\n",
    "                 include_top=False)\n"
   ]
  },
  {
   "cell_type": "markdown",
   "metadata": {},
   "source": [
    "# Define content loss"
   ]
  },
  {
   "cell_type": "code",
   "execution_count": 3,
   "metadata": {
    "collapsed": true
   },
   "outputs": [],
   "source": [
    "def content_loss(content,combined):\n",
    "    return K.sum(K.square(combined-content))"
   ]
  },
  {
   "cell_type": "markdown",
   "metadata": {},
   "source": [
    "# Define style loss"
   ]
  },
  {
   "cell_type": "code",
   "execution_count": 4,
   "metadata": {
    "collapsed": true
   },
   "outputs": [],
   "source": [
    "def gram_matrix(x):\n",
    "    features=K.batch_flatten(K.permute_dimensions(x,(2,0,1)))\n",
    "    gram=K.dot(features,K.transpose(features))\n",
    "    return gram\n",
    "def style_loss(style,combined):\n",
    "    S=gram_matrix(style)\n",
    "    C=gram_matrix(combined)\n",
    "    channels=3\n",
    "    size=img_h*img_w\n",
    "    return K.sum(K.square(S-C))/(4.*(channels**2)*(size**2))"
   ]
  },
  {
   "cell_type": "markdown",
   "metadata": {},
   "source": [
    "# Define total variation loss to get a more smoother image"
   ]
  },
  {
   "cell_type": "code",
   "execution_count": 5,
   "metadata": {
    "collapsed": true
   },
   "outputs": [],
   "source": [
    "def total_variation_loss(x):\n",
    "    a=K.square(\n",
    "        x[:,:img_h-1,:img_w-1,:]-x[:,1:,:img_w-1,:])\n",
    "    b=K.square(\n",
    "        x[:,:img_h-1,:img_w-1,:]-x[:,:img_h-1,1:,:])\n",
    "    return K.sum(K.pow(a+b,1.25))\n"
   ]
  },
  {
   "cell_type": "markdown",
   "metadata": {},
   "source": [
    "# Denfine the final loss to optimize"
   ]
  },
  {
   "cell_type": "code",
   "execution_count": 6,
   "metadata": {
    "collapsed": true
   },
   "outputs": [],
   "source": [
    "outputs_dict=dict([(layer.name,layer.output) for layer in model.layers])\n",
    "content_layer=\"block5_conv2\"\n",
    "style_layers=[\"block1_conv1\",\n",
    "             \"block2_conv1\",\n",
    "             \"block3_conv1\",\n",
    "             \"block4_conv1\",\n",
    "             \"block5_conv1\"]\n",
    "total_variation_weight=1e-4\n",
    "content_weight=0.025\n",
    "style_weight=2\n",
    "\n",
    "loss=K.variable(0.)\n",
    "layer_features=outputs_dict[content_layer]\n",
    "loss+=content_weight*content_loss(layer_features[0,:,:,:],layer_features[2,:,:,:])\n",
    "for style_layer in style_layers:\n",
    "    layer_feature=outputs_dict[style_layer]\n",
    "    loss+=(style_weight/len(style_layers)*style_loss(layer_feature[1,:,:,:],layer_feature[2,:,:,:]))\n",
    "loss+=total_variation_weight*total_variation_loss(combined_img)"
   ]
  },
  {
   "cell_type": "markdown",
   "metadata": {},
   "source": [
    "# Define the optimize process"
   ]
  },
  {
   "cell_type": "code",
   "execution_count": 7,
   "metadata": {
    "collapsed": true
   },
   "outputs": [],
   "source": [
    "grads=K.gradients(loss,combined_img)[0]\n",
    "fetch_loss_and_grads=K.function([combined_img],[loss,grads])\n",
    "\n",
    "class Evaluator(object):\n",
    "    def __init__(self):\n",
    "        self.loss_value=None\n",
    "        self.grads_value=None\n",
    "    def loss(self,x):\n",
    "        assert self.loss_value is None\n",
    "        x=x.reshape((1,img_h,img_w,3))\n",
    "        loss_value,grads_value=fetch_loss_and_grads([x])\n",
    "        self.loss_value=loss_value\n",
    "        self.grads_value=grads_value.flatten().astype(\"float64\")\n",
    "        return self.loss_value\n",
    "    def grads(self,x):\n",
    "        assert self.grads_value is not None\n",
    "        grad_values=np.copy(self.grads_value)\n",
    "        self.loss_value=None\n",
    "        self.grads_value=None\n",
    "        return grad_values\n",
    "evaluator=Evaluator()"
   ]
  },
  {
   "cell_type": "code",
   "execution_count": 8,
   "metadata": {
    "collapsed": false
   },
   "outputs": [
    {
     "name": "stdout",
     "output_type": "stream",
     "text": [
      "Its: 0\n",
      "Current loss :9.71902e+09\n",
      "Its:0 cost time 13.854782581329346\n",
      "Its: 1\n"
     ]
    },
    {
     "name": "stderr",
     "output_type": "stream",
     "text": [
      "C:\\Users\\test07\\Anaconda3\\lib\\site-packages\\ipykernel\\__main__.py:16: DeprecationWarning: `imsave` is deprecated!\n",
      "`imsave` is deprecated in SciPy 1.0.0, and will be removed in 1.2.0.\n",
      "Use ``imageio.imwrite`` instead.\n"
     ]
    },
    {
     "name": "stdout",
     "output_type": "stream",
     "text": [
      "Current loss :4.49846e+09\n",
      "Its:1 cost time 12.120324850082397\n",
      "Its: 2\n",
      "Current loss :3.41534e+09\n",
      "Its:2 cost time 11.618390798568726\n",
      "Its: 3\n",
      "Current loss :2.76415e+09\n",
      "Its:3 cost time 11.63581919670105\n",
      "Its: 4\n",
      "Current loss :2.32921e+09\n",
      "Its:4 cost time 11.651822328567505\n",
      "Its: 5\n",
      "Current loss :2.06511e+09\n",
      "Its:5 cost time 11.71794605255127\n",
      "Its: 6\n",
      "Current loss :1.86816e+09\n",
      "Its:6 cost time 11.619946002960205\n",
      "Its: 7\n",
      "Current loss :1.72587e+09\n",
      "Its:7 cost time 11.568235158920288\n",
      "Its: 8\n",
      "Current loss :1.58093e+09\n",
      "Its:8 cost time 11.639970064163208\n",
      "Its: 9\n",
      "Current loss :1.4662e+09\n",
      "Its:9 cost time 11.679535150527954\n",
      "Its: 10\n",
      "Current loss :1.36686e+09\n",
      "Its:10 cost time 11.667524337768555\n",
      "Its: 11\n",
      "Current loss :1.2845e+09\n",
      "Its:11 cost time 11.566693305969238\n",
      "Its: 12\n",
      "Current loss :1.17939e+09\n",
      "Its:12 cost time 11.531161069869995\n",
      "Its: 13\n",
      "Current loss :1.09848e+09\n",
      "Its:13 cost time 11.663675546646118\n",
      "Its: 14\n",
      "Current loss :1.02845e+09\n",
      "Its:14 cost time 11.747734785079956\n",
      "Its: 15\n",
      "Current loss :9.6793e+08\n",
      "Its:15 cost time 11.664039611816406\n",
      "Its: 16\n",
      "Current loss :9.1343e+08\n",
      "Its:16 cost time 11.729185104370117\n",
      "Its: 17\n",
      "Current loss :8.61604e+08\n",
      "Its:17 cost time 11.56676959991455\n",
      "Its: 18\n",
      "Current loss :8.14285e+08\n",
      "Its:18 cost time 11.570262432098389\n",
      "Its: 19\n",
      "Current loss :7.74534e+08\n",
      "Its:19 cost time 11.576204061508179\n"
     ]
    }
   ],
   "source": [
    "from scipy.optimize import fmin_l_bfgs_b\n",
    "from scipy.misc import imsave\n",
    "import time\n",
    "result_prefix=\"my_result\"\n",
    "iterations=20\n",
    "x=preprocess(content_img_path)\n",
    "x=x.flatten()\n",
    "for i in range(iterations):\n",
    "    print(\"Its: %s\"%i)\n",
    "    start=time.time()\n",
    "    x,min_val,info=fmin_l_bfgs_b(evaluator.loss,x,fprime=evaluator.grads,maxfun=20)\n",
    "    print(\"Current loss :%s\"%min_val)\n",
    "    img=x.copy().reshape((img_h,img_w,3))\n",
    "    img=deprocess(img)\n",
    "    fname=result_prefix+\"_at_iteration_%s.png\"%i\n",
    "    imsave(fname,img)\n",
    "    print(\"Its:%s cost time %s\"%(i,time.time()-start))"
   ]
  },
  {
   "cell_type": "code",
   "execution_count": null,
   "metadata": {
    "collapsed": true
   },
   "outputs": [],
   "source": []
  }
 ],
 "metadata": {
  "anaconda-cloud": {},
  "kernelspec": {
   "display_name": "Python [conda root]",
   "language": "python",
   "name": "conda-root-py"
  },
  "language_info": {
   "codemirror_mode": {
    "name": "ipython",
    "version": 3
   },
   "file_extension": ".py",
   "mimetype": "text/x-python",
   "name": "python",
   "nbconvert_exporter": "python",
   "pygments_lexer": "ipython3",
   "version": "3.5.2"
  }
 },
 "nbformat": 4,
 "nbformat_minor": 2
}
