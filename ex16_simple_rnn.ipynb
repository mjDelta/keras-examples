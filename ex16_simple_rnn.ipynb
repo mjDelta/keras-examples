{
 "cells": [
  {
   "cell_type": "code",
   "execution_count": 1,
   "metadata": {
    "collapsed": false
   },
   "outputs": [
    {
     "name": "stderr",
     "output_type": "stream",
     "text": [
      "Using TensorFlow backend.\n"
     ]
    },
    {
     "data": {
      "text/plain": [
       "(25000, 20)"
      ]
     },
     "execution_count": 1,
     "metadata": {},
     "output_type": "execute_result"
    }
   ],
   "source": [
    "from keras.datasets import imdb\n",
    "from keras.preprocessing import sequence\n",
    "\n",
    "max_features=10000\n",
    "maxlen=20\n",
    "batch_size=32\n",
    "\n",
    "(x_train,y_train),(x_test,y_test)=imdb.load_data(num_words=max_features)\n",
    "\n",
    "train_data=sequence.pad_sequences(x_train,maxlen=maxlen)\n",
    "test_data=sequence.pad_sequences(x_test,maxlen=maxlen)\n",
    "\n",
    "train_data.shape"
   ]
  },
  {
   "cell_type": "markdown",
   "metadata": {},
   "source": [
    "# Add simpleRNN to the network."
   ]
  },
  {
   "cell_type": "code",
   "execution_count": 2,
   "metadata": {
    "collapsed": false,
    "scrolled": true
   },
   "outputs": [
    {
     "name": "stdout",
     "output_type": "stream",
     "text": [
      "_________________________________________________________________\n",
      "Layer (type)                 Output Shape              Param #   \n",
      "=================================================================\n",
      "embedding_1 (Embedding)      (None, 20, 100)           1000000   \n",
      "_________________________________________________________________\n",
      "simple_rnn_1 (SimpleRNN)     (None, 32)                4256      \n",
      "_________________________________________________________________\n",
      "dense_1 (Dense)              (None, 1)                 33        \n",
      "=================================================================\n",
      "Total params: 1,004,289\n",
      "Trainable params: 1,004,289\n",
      "Non-trainable params: 0\n",
      "_________________________________________________________________\n"
     ]
    }
   ],
   "source": [
    "from keras.models import Sequential\n",
    "from keras.layers import Embedding,SimpleRNN,Dense\n",
    "\n",
    "model=Sequential()\n",
    "model.add(Embedding(max_features,100,input_length=maxlen))\n",
    "model.add(SimpleRNN(32))\n",
    "model.add(Dense(1,activation=\"sigmoid\"))\n",
    "\n",
    "model.compile(optimizer=\"rmsprop\",\n",
    "             loss=\"binary_crossentropy\",\n",
    "             metrics=[\"acc\"])\n",
    "\n",
    "model.summary()"
   ]
  },
  {
   "cell_type": "code",
   "execution_count": 3,
   "metadata": {
    "collapsed": false
   },
   "outputs": [
    {
     "name": "stdout",
     "output_type": "stream",
     "text": [
      "Train on 20000 samples, validate on 5000 samples\n",
      "Epoch 1/10\n",
      "20000/20000 [==============================] - 7s 347us/step - loss: 0.5657 - acc: 0.6918 - val_loss: 0.5163 - val_acc: 0.7400\n",
      "Epoch 2/10\n",
      "20000/20000 [==============================] - 6s 290us/step - loss: 0.4017 - acc: 0.8173 - val_loss: 0.5289 - val_acc: 0.7434\n",
      "Epoch 3/10\n",
      "20000/20000 [==============================] - 6s 290us/step - loss: 0.2680 - acc: 0.8913 - val_loss: 0.6304 - val_acc: 0.7156\n",
      "Epoch 4/10\n",
      "20000/20000 [==============================] - 6s 295us/step - loss: 0.1609 - acc: 0.9393 - val_loss: 0.7656 - val_acc: 0.6988\n",
      "Epoch 5/10\n",
      "20000/20000 [==============================] - 6s 296us/step - loss: 0.0890 - acc: 0.9681 - val_loss: 0.9554 - val_acc: 0.7022\n",
      "Epoch 6/10\n",
      "20000/20000 [==============================] - 6s 298us/step - loss: 0.0518 - acc: 0.9826 - val_loss: 1.1005 - val_acc: 0.7024\n",
      "Epoch 7/10\n",
      "20000/20000 [==============================] - 6s 294us/step - loss: 0.0302 - acc: 0.9899 - val_loss: 1.2543 - val_acc: 0.6806\n",
      "Epoch 8/10\n",
      "20000/20000 [==============================] - 6s 295us/step - loss: 0.0161 - acc: 0.9953 - val_loss: 1.4673 - val_acc: 0.6814\n",
      "Epoch 9/10\n",
      "20000/20000 [==============================] - 6s 294us/step - loss: 0.0117 - acc: 0.9960 - val_loss: 1.5651 - val_acc: 0.6844\n",
      "Epoch 10/10\n",
      "20000/20000 [==============================] - 6s 296us/step - loss: 0.0077 - acc: 0.9978 - val_loss: 1.7627 - val_acc: 0.6608\n"
     ]
    }
   ],
   "source": [
    "history=model.fit(train_data,y_train,\n",
    "                 epochs=10,\n",
    "                 batch_size=batch_size,\n",
    "                 validation_split=0.2)"
   ]
  },
  {
   "cell_type": "code",
   "execution_count": 4,
   "metadata": {
    "collapsed": false
   },
   "outputs": [
    {
     "name": "stdout",
     "output_type": "stream",
     "text": [
      "25000/25000 [==============================] - 2s 87us/step\n"
     ]
    },
    {
     "data": {
      "text/plain": [
       "[1.785927218208313, 0.65924000000000005]"
      ]
     },
     "execution_count": 4,
     "metadata": {},
     "output_type": "execute_result"
    }
   ],
   "source": [
    "model.evaluate(test_data,y_test)"
   ]
  },
  {
   "cell_type": "markdown",
   "metadata": {},
   "source": [
    "# Add Lstm to the model"
   ]
  },
  {
   "cell_type": "code",
   "execution_count": 5,
   "metadata": {
    "collapsed": false
   },
   "outputs": [
    {
     "name": "stdout",
     "output_type": "stream",
     "text": [
      "_________________________________________________________________\n",
      "Layer (type)                 Output Shape              Param #   \n",
      "=================================================================\n",
      "embedding_2 (Embedding)      (None, 20, 100)           1000000   \n",
      "_________________________________________________________________\n",
      "lstm_1 (LSTM)                (None, 32)                17024     \n",
      "_________________________________________________________________\n",
      "dense_2 (Dense)              (None, 1)                 33        \n",
      "=================================================================\n",
      "Total params: 1,017,057\n",
      "Trainable params: 1,017,057\n",
      "Non-trainable params: 0\n",
      "_________________________________________________________________\n"
     ]
    }
   ],
   "source": [
    "from keras.layers import LSTM\n",
    "model=Sequential()\n",
    "model.add(Embedding(max_features,100,input_length=maxlen))\n",
    "model.add(LSTM(32))\n",
    "model.add(Dense(1,activation=\"sigmoid\"))\n",
    "\n",
    "model.compile(optimizer=\"rmsprop\",\n",
    "             loss=\"binary_crossentropy\",\n",
    "             metrics=[\"acc\"])\n",
    "\n",
    "model.summary()\n"
   ]
  },
  {
   "cell_type": "code",
   "execution_count": 6,
   "metadata": {
    "collapsed": false
   },
   "outputs": [
    {
     "name": "stdout",
     "output_type": "stream",
     "text": [
      "Train on 20000 samples, validate on 5000 samples\n",
      "Epoch 1/10\n",
      "20000/20000 [==============================] - 20s 1ms/step - loss: 0.5315 - acc: 0.7294 - val_loss: 0.4932 - val_acc: 0.7498\n",
      "Epoch 2/10\n",
      "20000/20000 [==============================] - 20s 986us/step - loss: 0.4290 - acc: 0.7991 - val_loss: 0.4904 - val_acc: 0.7578\n",
      "Epoch 3/10\n",
      "20000/20000 [==============================] - 20s 988us/step - loss: 0.3949 - acc: 0.8175 - val_loss: 0.4791 - val_acc: 0.7612\n",
      "Epoch 4/10\n",
      "20000/20000 [==============================] - 19s 974us/step - loss: 0.3682 - acc: 0.8349 - val_loss: 0.4888 - val_acc: 0.7564\n",
      "Epoch 5/10\n",
      "20000/20000 [==============================] - 20s 992us/step - loss: 0.3435 - acc: 0.8480 - val_loss: 0.4896 - val_acc: 0.7572\n",
      "Epoch 6/10\n",
      "20000/20000 [==============================] - 20s 995us/step - loss: 0.3159 - acc: 0.8640 - val_loss: 0.5221 - val_acc: 0.7592\n",
      "Epoch 7/10\n",
      "20000/20000 [==============================] - 19s 971us/step - loss: 0.2888 - acc: 0.8773 - val_loss: 0.5073 - val_acc: 0.7542\n",
      "Epoch 8/10\n",
      "20000/20000 [==============================] - 19s 965us/step - loss: 0.2610 - acc: 0.8919 - val_loss: 0.5558 - val_acc: 0.7338\n",
      "Epoch 9/10\n",
      "20000/20000 [==============================] - 19s 966us/step - loss: 0.2328 - acc: 0.9073 - val_loss: 0.6273 - val_acc: 0.7380\n",
      "Epoch 10/10\n",
      "20000/20000 [==============================] - 19s 974us/step - loss: 0.2049 - acc: 0.9180 - val_loss: 0.6488 - val_acc: 0.7398\n"
     ]
    },
    {
     "data": {
      "text/plain": [
       "<keras.callbacks.History at 0x25569abc320>"
      ]
     },
     "execution_count": 6,
     "metadata": {},
     "output_type": "execute_result"
    }
   ],
   "source": [
    "model.fit(train_data,y_train,\n",
    "         epochs=10,\n",
    "         batch_size=32,\n",
    "         validation_split=0.2)\n"
   ]
  },
  {
   "cell_type": "code",
   "execution_count": 7,
   "metadata": {
    "collapsed": false
   },
   "outputs": [
    {
     "name": "stdout",
     "output_type": "stream",
     "text": [
      "25000/25000 [==============================] - 7s 299us/step\n"
     ]
    },
    {
     "data": {
      "text/plain": [
       "[0.63121704801559453, 0.747]"
      ]
     },
     "execution_count": 7,
     "metadata": {},
     "output_type": "execute_result"
    }
   ],
   "source": [
    "model.evaluate(test_data,y_test)"
   ]
  },
  {
   "cell_type": "code",
   "execution_count": null,
   "metadata": {
    "collapsed": true
   },
   "outputs": [],
   "source": []
  }
 ],
 "metadata": {
  "kernelspec": {
   "display_name": "Python [conda root]",
   "language": "python",
   "name": "conda-root-py"
  },
  "language_info": {
   "codemirror_mode": {
    "name": "ipython",
    "version": 3
   },
   "file_extension": ".py",
   "mimetype": "text/x-python",
   "name": "python",
   "nbconvert_exporter": "python",
   "pygments_lexer": "ipython3",
   "version": "3.5.2"
  }
 },
 "nbformat": 4,
 "nbformat_minor": 2
}
